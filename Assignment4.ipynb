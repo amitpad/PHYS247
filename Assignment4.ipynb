{
 "cells": [
  {
   "cell_type": "code",
   "execution_count": 465,
   "metadata": {},
   "outputs": [],
   "source": [
    "import numpy as np\n",
    "import pandas as pd\n",
    "import tensorflow as tf\n",
    "from tensorflow.keras import layers\n",
    "from tensorflow import keras\n",
    "from tensorflow.keras.models import Sequential\n",
    "from tensorflow.keras.layers import Dense,Dropout, Activation\n",
    "from tensorflow.keras.optimizers import Adam\n",
    "import seaborn as sns\n",
    "from datetime import datetime,date\n",
    "from sklearn.model_selection import train_test_split"
   ]
  },
  {
   "cell_type": "code",
   "execution_count": 466,
   "metadata": {},
   "outputs": [
    {
     "data": {
      "text/html": [
       "<div>\n",
       "<style scoped>\n",
       "    .dataframe tbody tr th:only-of-type {\n",
       "        vertical-align: middle;\n",
       "    }\n",
       "\n",
       "    .dataframe tbody tr th {\n",
       "        vertical-align: top;\n",
       "    }\n",
       "\n",
       "    .dataframe thead th {\n",
       "        text-align: right;\n",
       "    }\n",
       "</style>\n",
       "<table border=\"1\" class=\"dataframe\">\n",
       "  <thead>\n",
       "    <tr style=\"text-align: right;\">\n",
       "      <th></th>\n",
       "      <th>loan_amnt</th>\n",
       "      <th>term</th>\n",
       "      <th>int_rate</th>\n",
       "      <th>installment</th>\n",
       "      <th>grade</th>\n",
       "      <th>sub_grade</th>\n",
       "      <th>home_ownership</th>\n",
       "      <th>annual_inc</th>\n",
       "      <th>verification_status</th>\n",
       "      <th>loan_status</th>\n",
       "      <th>...</th>\n",
       "      <th>open_acc</th>\n",
       "      <th>pub_rec</th>\n",
       "      <th>revol_bal</th>\n",
       "      <th>revol_util</th>\n",
       "      <th>total_acc</th>\n",
       "      <th>initial_list_status</th>\n",
       "      <th>application_type</th>\n",
       "      <th>mort_acc</th>\n",
       "      <th>pub_rec_bankruptcies</th>\n",
       "      <th>address</th>\n",
       "    </tr>\n",
       "  </thead>\n",
       "  <tbody>\n",
       "    <tr>\n",
       "      <th>0</th>\n",
       "      <td>10000.0</td>\n",
       "      <td>36 months</td>\n",
       "      <td>11.44</td>\n",
       "      <td>329.48</td>\n",
       "      <td>B</td>\n",
       "      <td>B4</td>\n",
       "      <td>RENT</td>\n",
       "      <td>117000.0</td>\n",
       "      <td>Not Verified</td>\n",
       "      <td>Fully Paid</td>\n",
       "      <td>...</td>\n",
       "      <td>16.0</td>\n",
       "      <td>0.0</td>\n",
       "      <td>36369.0</td>\n",
       "      <td>41.8</td>\n",
       "      <td>25.0</td>\n",
       "      <td>w</td>\n",
       "      <td>INDIVIDUAL</td>\n",
       "      <td>0.0</td>\n",
       "      <td>0.0</td>\n",
       "      <td>0174 Michelle Gateway\\r\\nMendozaberg, OK 22690</td>\n",
       "    </tr>\n",
       "    <tr>\n",
       "      <th>1</th>\n",
       "      <td>8000.0</td>\n",
       "      <td>36 months</td>\n",
       "      <td>11.99</td>\n",
       "      <td>265.68</td>\n",
       "      <td>B</td>\n",
       "      <td>B5</td>\n",
       "      <td>MORTGAGE</td>\n",
       "      <td>65000.0</td>\n",
       "      <td>Not Verified</td>\n",
       "      <td>Fully Paid</td>\n",
       "      <td>...</td>\n",
       "      <td>17.0</td>\n",
       "      <td>0.0</td>\n",
       "      <td>20131.0</td>\n",
       "      <td>53.3</td>\n",
       "      <td>27.0</td>\n",
       "      <td>f</td>\n",
       "      <td>INDIVIDUAL</td>\n",
       "      <td>3.0</td>\n",
       "      <td>0.0</td>\n",
       "      <td>1076 Carney Fort Apt. 347\\r\\nLoganmouth, SD 05113</td>\n",
       "    </tr>\n",
       "    <tr>\n",
       "      <th>2</th>\n",
       "      <td>15600.0</td>\n",
       "      <td>36 months</td>\n",
       "      <td>10.49</td>\n",
       "      <td>506.97</td>\n",
       "      <td>B</td>\n",
       "      <td>B3</td>\n",
       "      <td>RENT</td>\n",
       "      <td>43057.0</td>\n",
       "      <td>Source Verified</td>\n",
       "      <td>Fully Paid</td>\n",
       "      <td>...</td>\n",
       "      <td>13.0</td>\n",
       "      <td>0.0</td>\n",
       "      <td>11987.0</td>\n",
       "      <td>92.2</td>\n",
       "      <td>26.0</td>\n",
       "      <td>f</td>\n",
       "      <td>INDIVIDUAL</td>\n",
       "      <td>0.0</td>\n",
       "      <td>0.0</td>\n",
       "      <td>87025 Mark Dale Apt. 269\\r\\nNew Sabrina, WV 05113</td>\n",
       "    </tr>\n",
       "    <tr>\n",
       "      <th>3</th>\n",
       "      <td>7200.0</td>\n",
       "      <td>36 months</td>\n",
       "      <td>6.49</td>\n",
       "      <td>220.65</td>\n",
       "      <td>A</td>\n",
       "      <td>A2</td>\n",
       "      <td>RENT</td>\n",
       "      <td>54000.0</td>\n",
       "      <td>Not Verified</td>\n",
       "      <td>Fully Paid</td>\n",
       "      <td>...</td>\n",
       "      <td>6.0</td>\n",
       "      <td>0.0</td>\n",
       "      <td>5472.0</td>\n",
       "      <td>21.5</td>\n",
       "      <td>13.0</td>\n",
       "      <td>f</td>\n",
       "      <td>INDIVIDUAL</td>\n",
       "      <td>0.0</td>\n",
       "      <td>0.0</td>\n",
       "      <td>823 Reid Ford\\r\\nDelacruzside, MA 00813</td>\n",
       "    </tr>\n",
       "    <tr>\n",
       "      <th>4</th>\n",
       "      <td>24375.0</td>\n",
       "      <td>60 months</td>\n",
       "      <td>17.27</td>\n",
       "      <td>609.33</td>\n",
       "      <td>C</td>\n",
       "      <td>C5</td>\n",
       "      <td>MORTGAGE</td>\n",
       "      <td>55000.0</td>\n",
       "      <td>Verified</td>\n",
       "      <td>Charged Off</td>\n",
       "      <td>...</td>\n",
       "      <td>13.0</td>\n",
       "      <td>0.0</td>\n",
       "      <td>24584.0</td>\n",
       "      <td>69.8</td>\n",
       "      <td>43.0</td>\n",
       "      <td>f</td>\n",
       "      <td>INDIVIDUAL</td>\n",
       "      <td>1.0</td>\n",
       "      <td>0.0</td>\n",
       "      <td>679 Luna Roads\\r\\nGreggshire, VA 11650</td>\n",
       "    </tr>\n",
       "  </tbody>\n",
       "</table>\n",
       "<p>5 rows × 23 columns</p>\n",
       "</div>"
      ],
      "text/plain": [
       "   loan_amnt       term  int_rate  installment grade sub_grade home_ownership  \\\n",
       "0    10000.0  36 months     11.44       329.48     B        B4           RENT   \n",
       "1     8000.0  36 months     11.99       265.68     B        B5       MORTGAGE   \n",
       "2    15600.0  36 months     10.49       506.97     B        B3           RENT   \n",
       "3     7200.0  36 months      6.49       220.65     A        A2           RENT   \n",
       "4    24375.0  60 months     17.27       609.33     C        C5       MORTGAGE   \n",
       "\n",
       "   annual_inc verification_status  loan_status  ... open_acc  pub_rec  \\\n",
       "0    117000.0        Not Verified   Fully Paid  ...     16.0      0.0   \n",
       "1     65000.0        Not Verified   Fully Paid  ...     17.0      0.0   \n",
       "2     43057.0     Source Verified   Fully Paid  ...     13.0      0.0   \n",
       "3     54000.0        Not Verified   Fully Paid  ...      6.0      0.0   \n",
       "4     55000.0            Verified  Charged Off  ...     13.0      0.0   \n",
       "\n",
       "  revol_bal  revol_util  total_acc  initial_list_status  application_type  \\\n",
       "0   36369.0        41.8       25.0                    w        INDIVIDUAL   \n",
       "1   20131.0        53.3       27.0                    f        INDIVIDUAL   \n",
       "2   11987.0        92.2       26.0                    f        INDIVIDUAL   \n",
       "3    5472.0        21.5       13.0                    f        INDIVIDUAL   \n",
       "4   24584.0        69.8       43.0                    f        INDIVIDUAL   \n",
       "\n",
       "   mort_acc pub_rec_bankruptcies  \\\n",
       "0       0.0                  0.0   \n",
       "1       3.0                  0.0   \n",
       "2       0.0                  0.0   \n",
       "3       0.0                  0.0   \n",
       "4       1.0                  0.0   \n",
       "\n",
       "                                             address  \n",
       "0     0174 Michelle Gateway\\r\\nMendozaberg, OK 22690  \n",
       "1  1076 Carney Fort Apt. 347\\r\\nLoganmouth, SD 05113  \n",
       "2  87025 Mark Dale Apt. 269\\r\\nNew Sabrina, WV 05113  \n",
       "3            823 Reid Ford\\r\\nDelacruzside, MA 00813  \n",
       "4             679 Luna Roads\\r\\nGreggshire, VA 11650  \n",
       "\n",
       "[5 rows x 23 columns]"
      ]
     },
     "execution_count": 466,
     "metadata": {},
     "output_type": "execute_result"
    }
   ],
   "source": [
    "df=pd.read_csv('LendingClub.csv')\n",
    "df.head()"
   ]
  },
  {
   "cell_type": "code",
   "execution_count": 467,
   "metadata": {},
   "outputs": [
    {
     "name": "stdout",
     "output_type": "stream",
     "text": [
      "<class 'pandas.core.frame.DataFrame'>\n",
      "RangeIndex: 395219 entries, 0 to 395218\n",
      "Data columns (total 23 columns):\n",
      " #   Column                Non-Null Count   Dtype  \n",
      "---  ------                --------------   -----  \n",
      " 0   loan_amnt             395219 non-null  float64\n",
      " 1   term                  395219 non-null  object \n",
      " 2   int_rate              395219 non-null  float64\n",
      " 3   installment           395219 non-null  float64\n",
      " 4   grade                 395219 non-null  object \n",
      " 5   sub_grade             395219 non-null  object \n",
      " 6   home_ownership        395219 non-null  object \n",
      " 7   annual_inc            395219 non-null  float64\n",
      " 8   verification_status   395219 non-null  object \n",
      " 9   loan_status           395219 non-null  object \n",
      " 10  purpose               395219 non-null  object \n",
      " 11  dti                   395219 non-null  float64\n",
      " 12  earliest_cr_line      395219 non-null  object \n",
      " 13  open_acc              395219 non-null  float64\n",
      " 14  pub_rec               395219 non-null  float64\n",
      " 15  revol_bal             395219 non-null  float64\n",
      " 16  revol_util            395219 non-null  float64\n",
      " 17  total_acc             395219 non-null  float64\n",
      " 18  initial_list_status   395219 non-null  object \n",
      " 19  application_type      395219 non-null  object \n",
      " 20  mort_acc              395219 non-null  float64\n",
      " 21  pub_rec_bankruptcies  395219 non-null  float64\n",
      " 22  address               395219 non-null  object \n",
      "dtypes: float64(12), object(11)\n",
      "memory usage: 69.4+ MB\n"
     ]
    }
   ],
   "source": [
    "df.info()"
   ]
  },
  {
   "cell_type": "code",
   "execution_count": 468,
   "metadata": {},
   "outputs": [
    {
     "data": {
      "text/plain": [
       "loan_amnt               0.0\n",
       "term                    0.0\n",
       "int_rate                0.0\n",
       "installment             0.0\n",
       "grade                   0.0\n",
       "sub_grade               0.0\n",
       "home_ownership          0.0\n",
       "annual_inc              0.0\n",
       "verification_status     0.0\n",
       "loan_status             0.0\n",
       "purpose                 0.0\n",
       "dti                     0.0\n",
       "earliest_cr_line        0.0\n",
       "open_acc                0.0\n",
       "pub_rec                 0.0\n",
       "revol_bal               0.0\n",
       "revol_util              0.0\n",
       "total_acc               0.0\n",
       "initial_list_status     0.0\n",
       "application_type        0.0\n",
       "mort_acc                0.0\n",
       "pub_rec_bankruptcies    0.0\n",
       "address                 0.0\n",
       "dtype: float64"
      ]
     },
     "execution_count": 468,
     "metadata": {},
     "output_type": "execute_result"
    }
   ],
   "source": [
    "#Calculating the % of Null values in each column\n",
    "df.isnull().sum()/df.shape[0]"
   ]
  },
  {
   "cell_type": "markdown",
   "metadata": {},
   "source": [
    "**Good, there are no NULL values**"
   ]
  },
  {
   "cell_type": "code",
   "execution_count": 469,
   "metadata": {},
   "outputs": [
    {
     "name": "stdout",
     "output_type": "stream",
     "text": [
      "Distinct DataTypes: [dtype('float64'), dtype('O')]\n"
     ]
    }
   ],
   "source": [
    "#Lets check which columns are numeric and non-numeric\n",
    "print(\"Distinct DataTypes:\",list(df.dtypes.unique()))"
   ]
  },
  {
   "cell_type": "code",
   "execution_count": 470,
   "metadata": {},
   "outputs": [
    {
     "name": "stdout",
     "output_type": "stream",
     "text": [
      "term column has : 2 distinct values\n",
      "grade column has : 7 distinct values\n",
      "sub_grade column has : 35 distinct values\n",
      "home_ownership column has : 6 distinct values\n",
      "verification_status column has : 3 distinct values\n",
      "loan_status column has : 2 distinct values\n",
      "purpose column has : 14 distinct values\n",
      "earliest_cr_line column has : 684 distinct values\n",
      "initial_list_status column has : 2 distinct values\n",
      "application_type column has : 3 distinct values\n",
      "address column has : 392898 distinct values\n"
     ]
    }
   ],
   "source": [
    "#Create a temp dataset with the datatype of columns\n",
    "temp = pd.DataFrame(df.dtypes)\n",
    "temp.columns = [\"DataType\"]\n",
    "#Extracting the object columns from the above dataframe\n",
    "categorical_columns = temp.index[temp[\"DataType\"] == 'O'].values\n",
    "#Check the number of distinct values in each categorical column\n",
    "for column in categorical_columns:\n",
    "  print(column+\" column has :\",str(len(df[column].unique()))+\" distinct values\")"
   ]
  },
  {
   "cell_type": "code",
   "execution_count": 471,
   "metadata": {},
   "outputs": [
    {
     "data": {
      "text/plain": [
       "MORTGAGE    198022\n",
       "RENT        159395\n",
       "OWN          37660\n",
       "OTHER          110\n",
       "NONE            29\n",
       "ANY              3\n",
       "Name: home_ownership, dtype: int64"
      ]
     },
     "execution_count": 471,
     "metadata": {},
     "output_type": "execute_result"
    }
   ],
   "source": [
    "df['home_ownership'].value_counts()"
   ]
  },
  {
   "cell_type": "markdown",
   "metadata": {},
   "source": [
    "There are very few OTHER,NONE and ANY rows. We should filter these outliers"
   ]
  },
  {
   "cell_type": "code",
   "execution_count": 491,
   "metadata": {},
   "outputs": [
    {
     "data": {
      "text/plain": [
       "(395077, 23)"
      ]
     },
     "execution_count": 491,
     "metadata": {},
     "output_type": "execute_result"
    }
   ],
   "source": [
    "df = df[(df['home_ownership'] != 'OTHER') & (df['home_ownership'] != 'NONE') & (df['home_ownership'] != 'ANY')]\n",
    "df.shape"
   ]
  },
  {
   "cell_type": "code",
   "execution_count": 492,
   "metadata": {},
   "outputs": [
    {
     "data": {
      "text/plain": [
       "0.0     337348\n",
       "1.0      49712\n",
       "2.0       5474\n",
       "3.0       1521\n",
       "4.0        527\n",
       "5.0        237\n",
       "6.0        122\n",
       "7.0         56\n",
       "8.0         34\n",
       "9.0         12\n",
       "10.0        11\n",
       "11.0         8\n",
       "13.0         4\n",
       "12.0         4\n",
       "19.0         2\n",
       "86.0         1\n",
       "40.0         1\n",
       "17.0         1\n",
       "15.0         1\n",
       "24.0         1\n",
       "Name: pub_rec, dtype: int64"
      ]
     },
     "execution_count": 492,
     "metadata": {},
     "output_type": "execute_result"
    }
   ],
   "source": [
    "df['pub_rec'].value_counts()"
   ]
  },
  {
   "cell_type": "markdown",
   "metadata": {},
   "source": [
    "Public Records have negligible # of values after 3. Lets drop these values."
   ]
  },
  {
   "cell_type": "code",
   "execution_count": 494,
   "metadata": {},
   "outputs": [
    {
     "data": {
      "text/plain": [
       "(394055, 23)"
      ]
     },
     "execution_count": 494,
     "metadata": {},
     "output_type": "execute_result"
    }
   ],
   "source": [
    "df = df[(df['pub_rec'] <= 3)]\n",
    "df.shape"
   ]
  },
  {
   "cell_type": "code",
   "execution_count": 495,
   "metadata": {},
   "outputs": [
    {
     "data": {
      "text/plain": [
       "0.0    349449\n",
       "1.0     42512\n",
       "2.0      1789\n",
       "3.0       305\n",
       "Name: pub_rec_bankruptcies, dtype: int64"
      ]
     },
     "execution_count": 495,
     "metadata": {},
     "output_type": "execute_result"
    }
   ],
   "source": [
    "df['pub_rec_bankruptcies'].value_counts()"
   ]
  },
  {
   "cell_type": "markdown",
   "metadata": {},
   "source": [
    "Public Record Bankruptcies have negligible # of values after 1. Lets drop these values."
   ]
  },
  {
   "cell_type": "code",
   "execution_count": 497,
   "metadata": {},
   "outputs": [
    {
     "data": {
      "text/plain": [
       "(391961, 23)"
      ]
     },
     "execution_count": 497,
     "metadata": {},
     "output_type": "execute_result"
    }
   ],
   "source": [
    "df = df[(df['pub_rec_bankruptcies'] <= 1)]\n",
    "df.shape"
   ]
  },
  {
   "cell_type": "code",
   "execution_count": 498,
   "metadata": {},
   "outputs": [],
   "source": [
    "#Lets change the term column to numerical. Remove the last 6 characters representing months string. \n",
    "#That way if there a term of 108 terms, that will also be converted correctly \n",
    "df['term'] = df['term'].apply(lambda term: pd.to_numeric(str(term)[:-6]))"
   ]
  },
  {
   "cell_type": "code",
   "execution_count": 499,
   "metadata": {
    "scrolled": true
   },
   "outputs": [
    {
     "data": {
      "text/plain": [
       "array(['B', 'A', 'C', 'E', 'D', 'F', 'G'], dtype=object)"
      ]
     },
     "execution_count": 499,
     "metadata": {},
     "output_type": "execute_result"
    }
   ],
   "source": [
    "df['grade'].unique()"
   ]
  },
  {
   "cell_type": "code",
   "execution_count": 500,
   "metadata": {},
   "outputs": [],
   "source": [
    "#Now lets take a look at grade column which has 7 distinct values.\n",
    "#NOTE: I was going to use from sklearn import preprocessing, but was not sure whether it was allowed in the assignment\n",
    "def get_grade(df):\n",
    "    grade = np.where(df[\"grade\"] == \"A\",1,np.where(df[\"grade\"] == \"B\",2,np.where(df[\"grade\"] == \"C\",3,np.where(df[\"grade\"] == \"D\",4,np.where(df[\"grade\"] == \"E\",5,np.where(df[\"grade\"] == \"F\",6,np.where(df[\"grade\"] == \"G\",7,100)))))))\n",
    "    return grade\n",
    "\n",
    "df['grade'] = get_grade(df)"
   ]
  },
  {
   "cell_type": "code",
   "execution_count": 501,
   "metadata": {},
   "outputs": [
    {
     "data": {
      "text/plain": [
       "0    2\n",
       "1    2\n",
       "2    2\n",
       "3    1\n",
       "4    3\n",
       "5    3\n",
       "6    1\n",
       "7    2\n",
       "8    2\n",
       "9    3\n",
       "Name: grade, dtype: int32"
      ]
     },
     "execution_count": 501,
     "metadata": {},
     "output_type": "execute_result"
    }
   ],
   "source": [
    "df['grade'][:10]"
   ]
  },
  {
   "cell_type": "code",
   "execution_count": 502,
   "metadata": {},
   "outputs": [
    {
     "data": {
      "text/plain": [
       "array(['B4', 'B5', 'B3', 'A2', 'C5', 'C3', 'A1', 'B2', 'C1', 'A5', 'E4',\n",
       "       'A4', 'A3', 'D1', 'C2', 'B1', 'D3', 'D5', 'D2', 'E1', 'E2', 'E5',\n",
       "       'F4', 'E3', 'D4', 'G1', 'F5', 'G2', 'C4', 'F1', 'F3', 'G5', 'G4',\n",
       "       'F2', 'G3'], dtype=object)"
      ]
     },
     "execution_count": 502,
     "metadata": {},
     "output_type": "execute_result"
    }
   ],
   "source": [
    "df['sub_grade'].unique()"
   ]
  },
  {
   "cell_type": "code",
   "execution_count": 506,
   "metadata": {},
   "outputs": [],
   "source": [
    "#For the sub_grade column A1 will translate to 1, B4 will translate to 4 etc. As the grade is already taken care of in grade column\n",
    "#Lets worry only about the numeric value of sub_grade\n",
    "def get_subgrade(arr):\n",
    "    sub_grade_num = df['sub_grade'].apply(lambda sub_grade: pd.to_numeric(str(sub_grade)[-1]))\n",
    "    return sub_grade_num"
   ]
  },
  {
   "cell_type": "code",
   "execution_count": 507,
   "metadata": {},
   "outputs": [
    {
     "data": {
      "text/plain": [
       "0    4\n",
       "1    5\n",
       "2    3\n",
       "3    2\n",
       "4    5\n",
       "5    3\n",
       "6    1\n",
       "7    2\n",
       "8    3\n",
       "9    5\n",
       "Name: sub_grade, dtype: int64"
      ]
     },
     "execution_count": 507,
     "metadata": {},
     "output_type": "execute_result"
    }
   ],
   "source": [
    "df['sub_grade'] = get_subgrade(df['sub_grade'])\n",
    "df['sub_grade'][:10]"
   ]
  },
  {
   "cell_type": "code",
   "execution_count": 508,
   "metadata": {},
   "outputs": [
    {
     "data": {
      "text/plain": [
       "array(['RENT', 'MORTGAGE', 'OWN'], dtype=object)"
      ]
     },
     "execution_count": 508,
     "metadata": {},
     "output_type": "execute_result"
    }
   ],
   "source": [
    "df['home_ownership'].unique()"
   ]
  },
  {
   "cell_type": "code",
   "execution_count": 509,
   "metadata": {},
   "outputs": [],
   "source": [
    "#Now lets take a look at home_ownership column which has 6 distinct values. Lets convert them to numerical\n",
    "def get_home_ownership(df):\n",
    "    home_ownership = np.where(df[\"home_ownership\"] == \"RENT\",1,np.where(df[\"home_ownership\"] == \"MORTGAGE\",2,np.where(df[\"home_ownership\"] == \"OWN\",3,np.where(df[\"home_ownership\"] == \"OTHER\",4,np.where(df[\"home_ownership\"] == \"ANY\",5,np.where(df[\"home_ownership\"] == \"NONE\",6,100))))))\n",
    "    return home_ownership\n",
    "\n",
    "df['home_ownership'] = get_home_ownership(df)"
   ]
  },
  {
   "cell_type": "code",
   "execution_count": 510,
   "metadata": {},
   "outputs": [
    {
     "data": {
      "text/plain": [
       "array(['Not Verified', 'Source Verified', 'Verified'], dtype=object)"
      ]
     },
     "execution_count": 510,
     "metadata": {},
     "output_type": "execute_result"
    }
   ],
   "source": [
    "df['verification_status'].unique()"
   ]
  },
  {
   "cell_type": "code",
   "execution_count": 511,
   "metadata": {},
   "outputs": [],
   "source": [
    "#Now lets take a look at verification status column which has 3 distinct values. Lets convert them to numerical\n",
    "def get_verification_status(df):\n",
    "    verification_status = np.where(df[\"verification_status\"] == \"Not Verified\",1,np.where(df[\"verification_status\"] == \"Source Verified\",2,np.where(df[\"verification_status\"] == \"Verified\",3,100)))\n",
    "    return verification_status\n",
    "\n",
    "df['verification_status'] = get_verification_status(df)"
   ]
  },
  {
   "cell_type": "code",
   "execution_count": 512,
   "metadata": {},
   "outputs": [
    {
     "data": {
      "text/plain": [
       "array(['Fully Paid', 'Charged Off'], dtype=object)"
      ]
     },
     "execution_count": 512,
     "metadata": {},
     "output_type": "execute_result"
    }
   ],
   "source": [
    "df['loan_status'].unique()"
   ]
  },
  {
   "cell_type": "code",
   "execution_count": 513,
   "metadata": {},
   "outputs": [],
   "source": [
    "#Now lets take a look at loan status column which has 2 distinct values.This is the target column. We should convert it to binary 0 & 1\n",
    "def get_loan_status(df):\n",
    "    loan_status = np.where(df[\"loan_status\"] == \"Fully Paid\",0,np.where(df[\"loan_status\"] == \"Charged Off\",1,100))\n",
    "    #loan_status = loan_status.apply(lambda status: int(status))\n",
    "    return loan_status.astype(int)\n",
    "\n",
    "df['loan_status'] = get_loan_status(df)"
   ]
  },
  {
   "cell_type": "code",
   "execution_count": 514,
   "metadata": {
    "scrolled": true
   },
   "outputs": [
    {
     "data": {
      "text/plain": [
       "0    359\n",
       "1    190\n",
       "2    153\n",
       "3    164\n",
       "4    254\n",
       "5    184\n",
       "6    177\n",
       "7    308\n",
       "8    311\n",
       "9    269\n",
       "Name: earliest_cr_line, dtype: int64"
      ]
     },
     "execution_count": 514,
     "metadata": {},
     "output_type": "execute_result"
    }
   ],
   "source": [
    "#Earliest credit line is in MON-YYYY format. We are interested in the duration of time for which it is open. We will convert \n",
    "#the value to the number of months for which earliest credit line is open\n",
    "\n",
    "df['earliest_cr_line'] = df['earliest_cr_line'].apply(lambda openDate: (date.today().year - datetime.strptime(openDate, '%b-%Y').date().year) * 12 + (date.today().month - datetime.strptime(openDate, '%b-%Y').date().month))\n",
    "df['earliest_cr_line'][:10]"
   ]
  },
  {
   "cell_type": "code",
   "execution_count": 515,
   "metadata": {},
   "outputs": [
    {
     "data": {
      "text/plain": [
       "array(['w', 'f'], dtype=object)"
      ]
     },
     "execution_count": 515,
     "metadata": {},
     "output_type": "execute_result"
    }
   ],
   "source": [
    "df['initial_list_status'].unique()"
   ]
  },
  {
   "cell_type": "code",
   "execution_count": 516,
   "metadata": {},
   "outputs": [],
   "source": [
    "#Now lets take a look at initial status column which has 2 distinct values.\n",
    "df['initial_list_status'] = np.where(df['initial_list_status'] == \"w\",0,np.where(df['initial_list_status'] == \"f\",1,100))"
   ]
  },
  {
   "cell_type": "code",
   "execution_count": 517,
   "metadata": {},
   "outputs": [
    {
     "data": {
      "text/plain": [
       "array(['INDIVIDUAL', 'JOINT', 'DIRECT_PAY'], dtype=object)"
      ]
     },
     "execution_count": 517,
     "metadata": {},
     "output_type": "execute_result"
    }
   ],
   "source": [
    "df['application_type'].unique()"
   ]
  },
  {
   "cell_type": "code",
   "execution_count": 518,
   "metadata": {},
   "outputs": [],
   "source": [
    "#Now lets take a look at application type column which has 3 distinct values. Lets convert them to numerical\n",
    "def get_application_type(df):\n",
    "    application_type = np.where(df[\"application_type\"] == \"INDIVIDUAL\",1,np.where(df[\"application_type\"] == \"JOINT\",2,np.where(df[\"application_type\"] == \"DIRECT_PAY\",3,100)))\n",
    "    return application_type\n",
    "\n",
    "df['application_type'] = get_application_type(df)"
   ]
  },
  {
   "cell_type": "code",
   "execution_count": 519,
   "metadata": {},
   "outputs": [
    {
     "data": {
      "text/plain": [
       "array(['vacation', 'debt_consolidation', 'credit_card',\n",
       "       'home_improvement', 'small_business', 'major_purchase', 'other',\n",
       "       'medical', 'wedding', 'car', 'moving', 'house', 'educational',\n",
       "       'renewable_energy'], dtype=object)"
      ]
     },
     "execution_count": 519,
     "metadata": {},
     "output_type": "execute_result"
    }
   ],
   "source": [
    "df['purpose'].unique()"
   ]
  },
  {
   "cell_type": "code",
   "execution_count": 520,
   "metadata": {},
   "outputs": [],
   "source": [
    "#Now lets take a look at purpose column which has 14 distinct values.\n",
    "def get_purpose(df):\n",
    "    purpose = np.where(df[\"purpose\"] == \"vacation\",1,np.where(df[\"purpose\"] == \"debt_consolidation\",2,np.where(df[\"purpose\"] == \"credit_card\",3,np.where(df[\"purpose\"] == \"home_improvement\",4,np.where(df[\"purpose\"] == \"small_business\",5,np.where(df[\"purpose\"] == \"major_purchase\",6,np.where(df[\"purpose\"] == \"other\",7,np.where(df[\"purpose\"] == \"medical\",8,np.where(df[\"purpose\"] == \"wedding\",8,np.where(df[\"purpose\"] == \"car\",10,np.where(df[\"purpose\"] == \"moving\",11,np.where(df[\"purpose\"] == \"house\",12,np.where(df[\"purpose\"] == \"educational\",13,np.where(df[\"purpose\"] == \"renewable_energy\",14,100))))))))))))))\n",
    "    return purpose\n",
    "\n",
    "df['purpose'] = get_purpose(df)"
   ]
  },
  {
   "cell_type": "code",
   "execution_count": 521,
   "metadata": {},
   "outputs": [
    {
     "data": {
      "text/plain": [
       "0    1\n",
       "1    2\n",
       "2    3\n",
       "3    3\n",
       "4    3\n",
       "5    2\n",
       "6    4\n",
       "7    3\n",
       "8    2\n",
       "9    2\n",
       "Name: purpose, dtype: int32"
      ]
     },
     "execution_count": 521,
     "metadata": {},
     "output_type": "execute_result"
    }
   ],
   "source": [
    "df['purpose'][:10]"
   ]
  },
  {
   "cell_type": "code",
   "execution_count": 522,
   "metadata": {},
   "outputs": [],
   "source": [
    "#extract zip code from address\n",
    "df['address'] =  df['address'].apply(lambda address:pd.to_numeric(str(address)[-5:]))"
   ]
  },
  {
   "cell_type": "code",
   "execution_count": 523,
   "metadata": {},
   "outputs": [
    {
     "name": "stdout",
     "output_type": "stream",
     "text": [
      "Distinct DataTypes: [dtype('float64'), dtype('int64'), dtype('int32')]\n"
     ]
    }
   ],
   "source": [
    "#Lets check whether all columns are numeric\n",
    "print(\"Distinct DataTypes:\",list(df.dtypes.unique()))"
   ]
  },
  {
   "cell_type": "markdown",
   "metadata": {},
   "source": [
    "**All our values are now numeric**"
   ]
  },
  {
   "cell_type": "code",
   "execution_count": 524,
   "metadata": {},
   "outputs": [
    {
     "data": {
      "text/html": [
       "<div>\n",
       "<style scoped>\n",
       "    .dataframe tbody tr th:only-of-type {\n",
       "        vertical-align: middle;\n",
       "    }\n",
       "\n",
       "    .dataframe tbody tr th {\n",
       "        vertical-align: top;\n",
       "    }\n",
       "\n",
       "    .dataframe thead th {\n",
       "        text-align: right;\n",
       "    }\n",
       "</style>\n",
       "<table border=\"1\" class=\"dataframe\">\n",
       "  <thead>\n",
       "    <tr style=\"text-align: right;\">\n",
       "      <th></th>\n",
       "      <th>loan_amnt</th>\n",
       "      <th>term</th>\n",
       "      <th>int_rate</th>\n",
       "      <th>installment</th>\n",
       "      <th>grade</th>\n",
       "      <th>sub_grade</th>\n",
       "      <th>home_ownership</th>\n",
       "      <th>annual_inc</th>\n",
       "      <th>verification_status</th>\n",
       "      <th>loan_status</th>\n",
       "      <th>...</th>\n",
       "      <th>open_acc</th>\n",
       "      <th>pub_rec</th>\n",
       "      <th>revol_bal</th>\n",
       "      <th>revol_util</th>\n",
       "      <th>total_acc</th>\n",
       "      <th>initial_list_status</th>\n",
       "      <th>application_type</th>\n",
       "      <th>mort_acc</th>\n",
       "      <th>pub_rec_bankruptcies</th>\n",
       "      <th>address</th>\n",
       "    </tr>\n",
       "  </thead>\n",
       "  <tbody>\n",
       "    <tr>\n",
       "      <th>0</th>\n",
       "      <td>10000.0</td>\n",
       "      <td>36</td>\n",
       "      <td>11.44</td>\n",
       "      <td>329.48</td>\n",
       "      <td>2</td>\n",
       "      <td>4</td>\n",
       "      <td>1</td>\n",
       "      <td>117000.0</td>\n",
       "      <td>1</td>\n",
       "      <td>0</td>\n",
       "      <td>...</td>\n",
       "      <td>16.0</td>\n",
       "      <td>0.0</td>\n",
       "      <td>36369.0</td>\n",
       "      <td>41.8</td>\n",
       "      <td>25.0</td>\n",
       "      <td>0</td>\n",
       "      <td>1</td>\n",
       "      <td>0.0</td>\n",
       "      <td>0.0</td>\n",
       "      <td>22690</td>\n",
       "    </tr>\n",
       "    <tr>\n",
       "      <th>1</th>\n",
       "      <td>8000.0</td>\n",
       "      <td>36</td>\n",
       "      <td>11.99</td>\n",
       "      <td>265.68</td>\n",
       "      <td>2</td>\n",
       "      <td>5</td>\n",
       "      <td>2</td>\n",
       "      <td>65000.0</td>\n",
       "      <td>1</td>\n",
       "      <td>0</td>\n",
       "      <td>...</td>\n",
       "      <td>17.0</td>\n",
       "      <td>0.0</td>\n",
       "      <td>20131.0</td>\n",
       "      <td>53.3</td>\n",
       "      <td>27.0</td>\n",
       "      <td>1</td>\n",
       "      <td>1</td>\n",
       "      <td>3.0</td>\n",
       "      <td>0.0</td>\n",
       "      <td>5113</td>\n",
       "    </tr>\n",
       "    <tr>\n",
       "      <th>2</th>\n",
       "      <td>15600.0</td>\n",
       "      <td>36</td>\n",
       "      <td>10.49</td>\n",
       "      <td>506.97</td>\n",
       "      <td>2</td>\n",
       "      <td>3</td>\n",
       "      <td>1</td>\n",
       "      <td>43057.0</td>\n",
       "      <td>2</td>\n",
       "      <td>0</td>\n",
       "      <td>...</td>\n",
       "      <td>13.0</td>\n",
       "      <td>0.0</td>\n",
       "      <td>11987.0</td>\n",
       "      <td>92.2</td>\n",
       "      <td>26.0</td>\n",
       "      <td>1</td>\n",
       "      <td>1</td>\n",
       "      <td>0.0</td>\n",
       "      <td>0.0</td>\n",
       "      <td>5113</td>\n",
       "    </tr>\n",
       "    <tr>\n",
       "      <th>3</th>\n",
       "      <td>7200.0</td>\n",
       "      <td>36</td>\n",
       "      <td>6.49</td>\n",
       "      <td>220.65</td>\n",
       "      <td>1</td>\n",
       "      <td>2</td>\n",
       "      <td>1</td>\n",
       "      <td>54000.0</td>\n",
       "      <td>1</td>\n",
       "      <td>0</td>\n",
       "      <td>...</td>\n",
       "      <td>6.0</td>\n",
       "      <td>0.0</td>\n",
       "      <td>5472.0</td>\n",
       "      <td>21.5</td>\n",
       "      <td>13.0</td>\n",
       "      <td>1</td>\n",
       "      <td>1</td>\n",
       "      <td>0.0</td>\n",
       "      <td>0.0</td>\n",
       "      <td>813</td>\n",
       "    </tr>\n",
       "    <tr>\n",
       "      <th>4</th>\n",
       "      <td>24375.0</td>\n",
       "      <td>60</td>\n",
       "      <td>17.27</td>\n",
       "      <td>609.33</td>\n",
       "      <td>3</td>\n",
       "      <td>5</td>\n",
       "      <td>2</td>\n",
       "      <td>55000.0</td>\n",
       "      <td>3</td>\n",
       "      <td>1</td>\n",
       "      <td>...</td>\n",
       "      <td>13.0</td>\n",
       "      <td>0.0</td>\n",
       "      <td>24584.0</td>\n",
       "      <td>69.8</td>\n",
       "      <td>43.0</td>\n",
       "      <td>1</td>\n",
       "      <td>1</td>\n",
       "      <td>1.0</td>\n",
       "      <td>0.0</td>\n",
       "      <td>11650</td>\n",
       "    </tr>\n",
       "  </tbody>\n",
       "</table>\n",
       "<p>5 rows × 23 columns</p>\n",
       "</div>"
      ],
      "text/plain": [
       "   loan_amnt  term  int_rate  installment  grade  sub_grade  home_ownership  \\\n",
       "0    10000.0    36     11.44       329.48      2          4               1   \n",
       "1     8000.0    36     11.99       265.68      2          5               2   \n",
       "2    15600.0    36     10.49       506.97      2          3               1   \n",
       "3     7200.0    36      6.49       220.65      1          2               1   \n",
       "4    24375.0    60     17.27       609.33      3          5               2   \n",
       "\n",
       "   annual_inc  verification_status  loan_status  ...  open_acc  pub_rec  \\\n",
       "0    117000.0                    1            0  ...      16.0      0.0   \n",
       "1     65000.0                    1            0  ...      17.0      0.0   \n",
       "2     43057.0                    2            0  ...      13.0      0.0   \n",
       "3     54000.0                    1            0  ...       6.0      0.0   \n",
       "4     55000.0                    3            1  ...      13.0      0.0   \n",
       "\n",
       "   revol_bal  revol_util  total_acc  initial_list_status  application_type  \\\n",
       "0    36369.0        41.8       25.0                    0                 1   \n",
       "1    20131.0        53.3       27.0                    1                 1   \n",
       "2    11987.0        92.2       26.0                    1                 1   \n",
       "3     5472.0        21.5       13.0                    1                 1   \n",
       "4    24584.0        69.8       43.0                    1                 1   \n",
       "\n",
       "   mort_acc  pub_rec_bankruptcies  address  \n",
       "0       0.0                   0.0    22690  \n",
       "1       3.0                   0.0     5113  \n",
       "2       0.0                   0.0     5113  \n",
       "3       0.0                   0.0      813  \n",
       "4       1.0                   0.0    11650  \n",
       "\n",
       "[5 rows x 23 columns]"
      ]
     },
     "execution_count": 524,
     "metadata": {},
     "output_type": "execute_result"
    }
   ],
   "source": [
    "df.head()"
   ]
  },
  {
   "cell_type": "code",
   "execution_count": 525,
   "metadata": {},
   "outputs": [],
   "source": [
    "X=df.loc[:, df.columns != 'loan_status']\n",
    "y=df[['loan_status']]"
   ]
  },
  {
   "cell_type": "code",
   "execution_count": 526,
   "metadata": {},
   "outputs": [],
   "source": [
    "X_train,X_test,y_train,y_test=train_test_split(X.values,y.values,test_size=0.3,random_state=100)"
   ]
  },
  {
   "cell_type": "code",
   "execution_count": 527,
   "metadata": {},
   "outputs": [
    {
     "data": {
      "text/plain": [
       "((274372, 22), (117589, 22), (274372, 1), (117589, 1))"
      ]
     },
     "execution_count": 527,
     "metadata": {},
     "output_type": "execute_result"
    }
   ],
   "source": [
    "X_train.shape,X_test.shape,y_train.shape,y_test.shape"
   ]
  },
  {
   "cell_type": "code",
   "execution_count": 528,
   "metadata": {},
   "outputs": [],
   "source": [
    "from sklearn.preprocessing import MinMaxScaler\n",
    "scaler=MinMaxScaler()\n",
    "X_train=scaler.fit_transform(X_train)\n",
    "X_test=scaler.transform(X_test)"
   ]
  },
  {
   "cell_type": "code",
   "execution_count": 529,
   "metadata": {},
   "outputs": [
    {
     "data": {
      "text/plain": [
       "0    0.804172\n",
       "1    0.195828\n",
       "Name: loan_status, dtype: float64"
      ]
     },
     "execution_count": 529,
     "metadata": {},
     "output_type": "execute_result"
    }
   ],
   "source": [
    "#Checking the distribution of values in the target\n",
    "df[\"loan_status\"].value_counts()/df.shape[0]"
   ]
  },
  {
   "cell_type": "markdown",
   "metadata": {},
   "source": [
    "**So our baseline accuracy should be 80%**"
   ]
  },
  {
   "cell_type": "code",
   "execution_count": null,
   "metadata": {},
   "outputs": [
    {
     "name": "stdout",
     "output_type": "stream",
     "text": [
      "Train on 274372 samples, validate on 117589 samples\n",
      "Epoch 1/10\n",
      "274372/274372 [==============================] - 38s 140us/sample - loss: 0.4026 - accuracy: 0.8442 - val_loss: 0.4479 - val_accuracy: 0.8035\n",
      "Epoch 2/10\n",
      "274372/274372 [==============================] - 41s 150us/sample - loss: 0.3915 - accuracy: 0.8484 - val_loss: 0.5243 - val_accuracy: 0.8035\n",
      "Epoch 3/10\n",
      "274372/274372 [==============================] - 41s 149us/sample - loss: 0.3887 - accuracy: 0.8489 - val_loss: 0.4446 - val_accuracy: 0.8035\n",
      "Epoch 4/10\n",
      "274372/274372 [==============================] - 40s 147us/sample - loss: 0.3591 - accuracy: 0.8636 - val_loss: 0.3446 - val_accuracy: 0.8538\n",
      "Epoch 5/10\n",
      "274372/274372 [==============================] - 40s 144us/sample - loss: 0.3359 - accuracy: 0.8711 - val_loss: 0.4099 - val_accuracy: 0.7997\n",
      "Epoch 6/10\n",
      "274372/274372 [==============================] - 40s 144us/sample - loss: 0.3332 - accuracy: 0.8716 - val_loss: 0.3783 - val_accuracy: 0.8401\n",
      "Epoch 7/10\n",
      "274372/274372 [==============================] - 43s 157us/sample - loss: 0.3326 - accuracy: 0.8716 - val_loss: 0.4103 - val_accuracy: 0.8176\n",
      "Epoch 8/10\n",
      "274176/274372 [============================>.] - ETA: 0s - loss: 0.3319 - accuracy: 0.8715"
     ]
    }
   ],
   "source": [
    "model=Sequential()\n",
    "\n",
    "#For the first layer number of neurons is equal to number of input dimensions\n",
    "model.add(Dropout(0.2))\n",
    "model.add(Dense(X_train.shape[1],input_dim=X_train.shape[1],activation='relu'))\n",
    "model.add(Dense(512,activation='relu'))\n",
    "model.add(Dense(512,activation='relu'))\n",
    "model.add(Dense(1,activation='sigmoid'))\n",
    "\n",
    "model.compile(optimizer='adam',loss='binary_crossentropy',metrics=['accuracy'])\n",
    "model.fit(x=X_train,y=y_train,validation_data=(X_test,y_test),batch_size=32,epochs=10)"
   ]
  },
  {
   "cell_type": "code",
   "execution_count": 533,
   "metadata": {},
   "outputs": [
    {
     "data": {
      "image/png": "[encoded data removed]",
      "text/plain": [
       "<Figure size 432x288 with 1 Axes>"
      ]
     },
     "metadata": {
      "needs_background": "light"
     },
     "output_type": "display_data"
    }
   ],
   "source": [
    "import matplotlib.pyplot as plt\n",
    "plt.plot(model.history.history['loss'])\n",
    "plt.plot(model.history.history['val_loss'])\n",
    "plt.title(\"Model's Training & Validation loss across epochs\")\n",
    "plt.ylabel('Loss')\n",
    "plt.xlabel('Epochs')\n",
    "plt.legend(['Train', 'Validation'], loc='upper right')\n",
    "plt.show()"
   ]
  },
  {
   "cell_type": "code",
   "execution_count": 463,
   "metadata": {},
   "outputs": [
    {
     "data": {
      "text/plain": [
       "<matplotlib.axes._subplots.AxesSubplot at 0x2292b1fed48>"
      ]
     },
     "execution_count": 463,
     "metadata": {},
     "output_type": "execute_result"
    },
    {
     "data": {
      "image/png": "[encoded data removed]",
      "text/plain": [
       "<Figure size 432x288 with 1 Axes>"
      ]
     },
     "metadata": {
      "needs_background": "light"
     },
     "output_type": "display_data"
    }
   ],
   "source": [
    "loss=pd.DataFrame(model.history.history)\n",
    "loss.plot()"
   ]
  },
  {
   "cell_type": "code",
   "execution_count": null,
   "metadata": {},
   "outputs": [],
   "source": []
  }
 ],
 "metadata": {
  "kernelspec": {
   "display_name": "PHYS247",
   "language": "python",
   "name": "phys247"
  },
  "language_info": {
   "codemirror_mode": {
    "name": "ipython",
    "version": 3
   },
   "file_extension": ".py",
   "mimetype": "text/x-python",
   "name": "python",
   "nbconvert_exporter": "python",
   "pygments_lexer": "ipython3",
   "version": "3.7.7"
  }
 },
 "nbformat": 4,
 "nbformat_minor": 4
}
