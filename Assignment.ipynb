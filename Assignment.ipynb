{
  "nbformat": 4,
  "nbformat_minor": 0,
  "metadata": {
    "colab": {
      "name": "Assignment.ipynb",
      "provenance": [],
      "collapsed_sections": [],
      "authorship_tag": "ABX9TyP+biopeoeEjvdgHVSOXyav",
      "include_colab_link": true
    },
    "kernelspec": {
      "name": "python3",
      "display_name": "Python 3"
    }
  },
  "cells": [
    {
      "cell_type": "markdown",
      "metadata": {
        "id": "view-in-github",
        "colab_type": "text"
      },
      "source": [
        "<a href=\"https://colab.research.google.com/github/amitpad/PHYS247/blob/master/Assignment.ipynb\" target=\"_parent\"><img src=\"https://colab.research.google.com/assets/colab-badge.svg\" alt=\"Open In Colab\"/></a>"
      ]
    },
    {
      "cell_type": "code",
      "metadata": {
        "id": "AeoGwl_rhJb-",
        "colab_type": "code",
        "colab": {}
      },
      "source": [
        "import numpy as np\n",
        "import matplotlib.pyplot as plt"
      ],
      "execution_count": 0,
      "outputs": []
    },
    {
      "cell_type": "code",
      "metadata": {
        "id": "atBltNUWhOxH",
        "colab_type": "code",
        "colab": {}
      },
      "source": [
        "#Dialer Matrix Array\n",
        "A = np.array([[0,0,0,0,0,0,0,0,1,0],\n",
        "              [0,0,1,0,1,0,0,0,0,0],\n",
        "              [0,1,0,1,0,1,0,0,0,0],\n",
        "              [0,0,1,0,0,0,1,0,0,0],\n",
        "              [0,1,0,0,0,1,0,1,0,0],\n",
        "              [0,0,1,0,1,0,1,0,1,0],\n",
        "              [0,0,0,1,0,1,0,0,0,1],\n",
        "              [0,0,0,0,1,0,0,0,1,0],\n",
        "              [1,0,0,0,0,1,0,1,0,1],\n",
        "              [0,0,0,0,0,0,1,0,1,0]])"
      ],
      "execution_count": 0,
      "outputs": []
    },
    {
      "cell_type": "code",
      "metadata": {
        "id": "7XT1JF16hTCG",
        "colab_type": "code",
        "outputId": "19011879-c78a-4259-d1c4-e1ba53c63b2b",
        "colab": {
          "base_uri": "https://localhost:8080/",
          "height": 187
        }
      },
      "source": [
        "AT = np.matrix.transpose(A)\n",
        "AT"
      ],
      "execution_count": 4,
      "outputs": [
        {
          "output_type": "execute_result",
          "data": {
            "text/plain": [
              "array([[0, 0, 0, 0, 0, 0, 0, 0, 1, 0],\n",
              "       [0, 0, 1, 0, 1, 0, 0, 0, 0, 0],\n",
              "       [0, 1, 0, 1, 0, 1, 0, 0, 0, 0],\n",
              "       [0, 0, 1, 0, 0, 0, 1, 0, 0, 0],\n",
              "       [0, 1, 0, 0, 0, 1, 0, 1, 0, 0],\n",
              "       [0, 0, 1, 0, 1, 0, 1, 0, 1, 0],\n",
              "       [0, 0, 0, 1, 0, 1, 0, 0, 0, 1],\n",
              "       [0, 0, 0, 0, 1, 0, 0, 0, 1, 0],\n",
              "       [1, 0, 0, 0, 0, 1, 0, 1, 0, 1],\n",
              "       [0, 0, 0, 0, 0, 0, 1, 0, 1, 0]])"
            ]
          },
          "metadata": {
            "tags": []
          },
          "execution_count": 4
        }
      ]
    },
    {
      "cell_type": "code",
      "metadata": {
        "id": "NiuJJnmL_sX0",
        "colab_type": "code",
        "outputId": "ec65c54e-9a2d-4339-f238-7dd6bb65c833",
        "colab": {
          "base_uri": "https://localhost:8080/",
          "height": 34
        }
      },
      "source": [
        "print(\"Are Dialer Matrix & its transpose equal ? \", (A == AT).all())"
      ],
      "execution_count": 5,
      "outputs": [
        {
          "output_type": "stream",
          "text": [
            "Are Dialer Matrix & its transpose equal ?  True\n"
          ],
          "name": "stdout"
        }
      ]
    },
    {
      "cell_type": "markdown",
      "metadata": {
        "id": "s2ZYRlGAEZcq",
        "colab_type": "text"
      },
      "source": [
        "We could have predicted this result as Dialer Matrix is symmetric. This is because dialer matrix elements represent keys arranged in sequentially left to right & top to bottom. Since they are sequential, during transpose when we flip rows & columns, they remain the same."
      ]
    },
    {
      "cell_type": "code",
      "metadata": {
        "id": "0kZBbeLwCTAX",
        "colab_type": "code",
        "colab": {}
      },
      "source": [
        "def MatrixMulti(P,Q):\n",
        "  if len(P[0])==len(Q):\n",
        "    R=[[sum(x*y for x,y in zip(P_row,Q_col)) for Q_col in zip(*Q)] for P_row in P]\n",
        "    return R\n",
        "  else: \n",
        "    print('Matrix dimensions do not match')"
      ],
      "execution_count": 0,
      "outputs": []
    },
    {
      "cell_type": "code",
      "metadata": {
        "id": "xNnrSvByIL8Y",
        "colab_type": "code",
        "colab": {}
      },
      "source": [
        "InitialMatrix = np.array([1,1,1,1,1,1,1,1,1,1])\n",
        "def Dialer_Problem(S,N):\n",
        "  if (S < 0 or S > 9):\n",
        "    print(\"Dial key value should be between 0 and 9\")\n",
        "  else:\n",
        "    #Creating new variable so as not to modify the original matrix\n",
        "    MultMatrix = A\n",
        "    for count in range(1,N-1):\n",
        "      MultMatrix = np.dot(MultMatrix,A)\n",
        "    Result = np.dot(MultMatrix,InitialMatrix)\n",
        "    return Result[S]"
      ],
      "execution_count": 0,
      "outputs": []
    },
    {
      "cell_type": "code",
      "metadata": {
        "id": "qedkuPGvIiK8",
        "colab_type": "code",
        "outputId": "cfce43d8-c99c-4db3-9840-2579d2082bc5",
        "colab": {
          "base_uri": "https://localhost:8080/",
          "height": 34
        }
      },
      "source": [
        "print('Verifying the result of Dialer_Problem(5,10) ' , Dialer_Problem(5,10))"
      ],
      "execution_count": 8,
      "outputs": [
        {
          "output_type": "stream",
          "text": [
            "Verifying the result of Dialer_Problem(5,10)  18713\n"
          ],
          "name": "stdout"
        }
      ]
    },
    {
      "cell_type": "code",
      "metadata": {
        "id": "u327B95OR6Eq",
        "colab_type": "code",
        "colab": {}
      },
      "source": [
        "A_Nested = [[0,0,0,0,0,0,0,0,1,0],\n",
        "              [0,0,1,0,1,0,0,0,0,0],\n",
        "              [0,1,0,1,0,1,0,0,0,0],\n",
        "              [0,0,1,0,0,0,1,0,0,0],\n",
        "              [0,1,0,0,0,1,0,1,0,0],\n",
        "              [0,0,1,0,1,0,1,0,1,0],\n",
        "              [0,0,0,1,0,1,0,0,0,1],\n",
        "              [0,0,0,0,1,0,0,0,1,0],\n",
        "              [1,0,0,0,0,1,0,1,0,1],\n",
        "              [0,0,0,0,0,0,1,0,1,0]]"
      ],
      "execution_count": 0,
      "outputs": []
    },
    {
      "cell_type": "code",
      "metadata": {
        "id": "vVJW460UOCVu",
        "colab_type": "code",
        "colab": {}
      },
      "source": [
        "InitialList =[[1],[1],[1],[1],[1],[1],[1],[1],[1],[1]]"
      ],
      "execution_count": 0,
      "outputs": []
    },
    {
      "cell_type": "code",
      "metadata": {
        "id": "EF1msTrjZOwx",
        "colab_type": "code",
        "colab": {}
      },
      "source": [
        "def Dialer_Problem_Without_Numpy(S,N):\n",
        "  if (S < 0 or S > 9):\n",
        "    print(\"Dial key value should be between 0 and 9\")\n",
        "  else:\n",
        "    #Creating new variable so as not to modify the original matrix\n",
        "    MultList = A_Nested\n",
        "    for count in range(1,N-1):\n",
        "      MultList = MatrixMulti(MultList,A)\n",
        "    Result = MatrixMulti(MultList,InitialList)\n",
        "    return Result[S][0]"
      ],
      "execution_count": 0,
      "outputs": []
    },
    {
      "cell_type": "code",
      "metadata": {
        "id": "HlxdL2MzQK8l",
        "colab_type": "code",
        "outputId": "bf5548ce-96b4-45a0-be77-edacf4f4f54e",
        "colab": {
          "base_uri": "https://localhost:8080/",
          "height": 34
        }
      },
      "source": [
        "print('Verifying the result of Dialer_Problem_Without_Numpy(5,10) ' , Dialer_Problem_Without_Numpy(5,10))"
      ],
      "execution_count": 12,
      "outputs": [
        {
          "output_type": "stream",
          "text": [
            "Verifying the result of Dialer_Problem_Without_Numpy(5,10)  18713\n"
          ],
          "name": "stdout"
        }
      ]
    },
    {
      "cell_type": "code",
      "metadata": {
        "id": "tV6V0xYdQPL_",
        "colab_type": "code",
        "colab": {}
      },
      "source": [
        "import time\n",
        "def calc_time(S,N):\n",
        "  t1=time.time()\n",
        "  Dialer_Problem(S,N)\n",
        "  return (time.time() - t1) * 1000 #Return in ms"
      ],
      "execution_count": 0,
      "outputs": []
    },
    {
      "cell_type": "code",
      "metadata": {
        "id": "2MhZA0jojkGQ",
        "colab_type": "code",
        "colab": {}
      },
      "source": [
        "TimeTaken=[]\n",
        "for count in range(0,1001):\n",
        "  TimeTaken.append(calc_time(5,count))  #5 is selected as S value since it's median of 0 to 10. Value of S wouldn't make a difference though"
      ],
      "execution_count": 0,
      "outputs": []
    },
    {
      "cell_type": "code",
      "metadata": {
        "id": "_lQDSJfckqHW",
        "colab_type": "code",
        "outputId": "bb42d587-f3c6-4b02-f73e-b0b3e40f6784",
        "colab": {
          "base_uri": "https://localhost:8080/",
          "height": 506
        }
      },
      "source": [
        "N=range(0,1001)\n",
        "plt.figure(figsize=(8,8))\n",
        "plt.plot(N,TimeTaken,c='cornflowerblue')\n",
        "plt.xlabel('N', fontsize=15)\n",
        "plt.ylabel('Execution Time (ms)', fontsize=15)\n",
        "plt.tick_params(which='both',labeltop=False, labelright=False,direction='in')\n",
        "plt.minorticks_on()\n",
        "plt.tick_params(bottom=True, top=True, left=True, right=True)\n",
        "plt.xticks(fontsize=13)\n",
        "plt.xticks(np.arange(0, 1001, step=100))\n",
        "plt.yticks(fontsize=13)\n",
        "plt.xlim([0, 1000])\n",
        "plt.ylim([0, 5])\n",
        "plt.show()\n",
        "\n",
        "# Draw O(N) line\n",
        "#point1 = [0,TimeTaken[0]*1000]\n",
        "#point2 = [1000,TimeTaken[len(TimeTaken) - 1]*1000]\n",
        "#xVal = [point1[0], point2[0]]\n",
        "#yVal =  [point1[1], point2[1]]\n",
        "#plt.plot(point1,point2,color='red')\n",
        "\n"
      ],
      "execution_count": 47,
      "outputs": [
        {
          "output_type": "display_data",
          "data": {
            "image/png": "[encoded data removed]",
            "text/plain": [
              "<Figure size 576x576 with 1 Axes>"
            ]
          },
          "metadata": {
            "tags": [],
            "needs_background": "light"
          }
        }
      ]
    },
    {
      "cell_type": "markdown",
      "metadata": {
        "id": "QwN4NETQ7l4b",
        "colab_type": "text"
      },
      "source": [
        "Since the code we have developed has O(N) efficiency, for N = 10000000, we would require about (2.6 ms/1000) * 10000000 = 26000 ms or 26 seconds"
      ]
    },
    {
      "cell_type": "code",
      "metadata": {
        "id": "gLsQB9GtnILc",
        "colab_type": "code",
        "colab": {}
      },
      "source": [
        "def decimalToBinary(num):\n",
        "    \"\"\"This function converts decimal number\n",
        "    to binary and prints it\"\"\"\n",
        "    if num > 1:\n",
        "        decimalToBinary(num // 2)\n",
        "        print('num ',num)\n",
        "    #print(num % 2, end='')"
      ],
      "execution_count": 0,
      "outputs": []
    },
    {
      "cell_type": "code",
      "metadata": {
        "id": "aKZ1mZQKJ4G4",
        "colab_type": "code",
        "colab": {
          "base_uri": "https://localhost:8080/",
          "height": 119
        },
        "outputId": "5f5a3ab9-3bb8-4720-f0a7-06b4ee472bc2"
      },
      "source": [
        "decimalToBinary(101)"
      ],
      "execution_count": 51,
      "outputs": [
        {
          "output_type": "stream",
          "text": [
            "num  3\n",
            "num  6\n",
            "num  12\n",
            "num  25\n",
            "num  50\n",
            "num  101\n"
          ],
          "name": "stdout"
        }
      ]
    },
    {
      "cell_type": "code",
      "metadata": {
        "id": "SyFYiKc7J-ht",
        "colab_type": "code",
        "colab": {}
      },
      "source": [
        ""
      ],
      "execution_count": 0,
      "outputs": []
    }
  ]
}