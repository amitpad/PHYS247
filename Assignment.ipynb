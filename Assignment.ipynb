{
  "nbformat": 4,
  "nbformat_minor": 0,
  "metadata": {
    "colab": {
      "name": "Assignment.ipynb",
      "provenance": [],
      "collapsed_sections": [],
      "authorship_tag": "ABX9TyMBxdL2DiskwyJNHSYcXRhw",
      "include_colab_link": true
    },
    "kernelspec": {
      "name": "python3",
      "display_name": "Python 3"
    }
  },
  "cells": [
    {
      "cell_type": "markdown",
      "metadata": {
        "id": "view-in-github",
        "colab_type": "text"
      },
      "source": [
        "<a href=\"https://colab.research.google.com/github/amitpad/PHYS247/blob/master/Assignment.ipynb\" target=\"_parent\"><img src=\"https://colab.research.google.com/assets/colab-badge.svg\" alt=\"Open In Colab\"/></a>"
      ]
    },
    {
      "cell_type": "code",
      "metadata": {
        "id": "AeoGwl_rhJb-",
        "colab_type": "code",
        "colab": {}
      },
      "source": [
        "import numpy as np\n",
        "import matplotlib.pyplot as plt"
      ],
      "execution_count": 0,
      "outputs": []
    },
    {
      "cell_type": "code",
      "metadata": {
        "id": "atBltNUWhOxH",
        "colab_type": "code",
        "colab": {}
      },
      "source": [
        "#Dialer Matrix Array\n",
        "A = np.array([[0,0,0,0,0,0,0,0,1,0],\n",
        "              [0,0,1,0,1,0,0,0,0,0],\n",
        "              [0,1,0,1,0,1,0,0,0,0],\n",
        "              [0,0,1,0,0,0,1,0,0,0],\n",
        "              [0,1,0,0,0,1,0,1,0,0],\n",
        "              [0,0,1,0,1,0,1,0,1,0],\n",
        "              [0,0,0,1,0,1,0,0,0,1],\n",
        "              [0,0,0,0,1,0,0,0,1,0],\n",
        "              [1,0,0,0,0,1,0,1,0,1],\n",
        "              [0,0,0,0,0,0,1,0,1,0]])"
      ],
      "execution_count": 0,
      "outputs": []
    },
    {
      "cell_type": "code",
      "metadata": {
        "id": "7XT1JF16hTCG",
        "colab_type": "code",
        "outputId": "e1072f4e-217d-47ef-d882-0b63a4f5a6a6",
        "colab": {
          "base_uri": "https://localhost:8080/",
          "height": 187
        }
      },
      "source": [
        "AT = np.matrix.transpose(A)\n",
        "AT"
      ],
      "execution_count": 0,
      "outputs": [
        {
          "output_type": "execute_result",
          "data": {
            "text/plain": [
              "array([[0, 0, 0, 0, 0, 0, 0, 0, 1, 0],\n",
              "       [0, 0, 1, 0, 1, 0, 0, 0, 0, 0],\n",
              "       [0, 1, 0, 1, 0, 1, 0, 0, 0, 0],\n",
              "       [0, 0, 1, 0, 0, 0, 1, 0, 0, 0],\n",
              "       [0, 1, 0, 0, 0, 1, 0, 1, 0, 0],\n",
              "       [0, 0, 1, 0, 1, 0, 1, 0, 1, 0],\n",
              "       [0, 0, 0, 1, 0, 1, 0, 0, 0, 1],\n",
              "       [0, 0, 0, 0, 1, 0, 0, 0, 1, 0],\n",
              "       [1, 0, 0, 0, 0, 1, 0, 1, 0, 1],\n",
              "       [0, 0, 0, 0, 0, 0, 1, 0, 1, 0]])"
            ]
          },
          "metadata": {
            "tags": []
          },
          "execution_count": 48
        }
      ]
    },
    {
      "cell_type": "code",
      "metadata": {
        "id": "NiuJJnmL_sX0",
        "colab_type": "code",
        "outputId": "cb2e7526-1799-47c5-9f48-708875778741",
        "colab": {
          "base_uri": "https://localhost:8080/",
          "height": 34
        }
      },
      "source": [
        "print(\"Are Dialer Matrix & its transpose equal ? \", (A == AT).all())"
      ],
      "execution_count": 0,
      "outputs": [
        {
          "output_type": "stream",
          "text": [
            "Are Dialer Matrix & its transpose equal ?  True\n"
          ],
          "name": "stdout"
        }
      ]
    },
    {
      "cell_type": "markdown",
      "metadata": {
        "id": "s2ZYRlGAEZcq",
        "colab_type": "text"
      },
      "source": [
        "We could have predicted this result as Dialer Matrix is symmetric. This is because dialer matrix elements represent keys arranged in sequentially left to right & top to bottom. Since they are sequential, during transpose when we flip rows & columns, they remain the same."
      ]
    },
    {
      "cell_type": "code",
      "metadata": {
        "id": "0kZBbeLwCTAX",
        "colab_type": "code",
        "colab": {}
      },
      "source": [
        "def MatrixMulti(P,Q):\n",
        "  if len(P[0])==len(Q):\n",
        "    R=[[sum(x*y for x,y in zip(P_row,Q_col)) for Q_col in zip(*Q)] for P_row in P]\n",
        "    return R\n",
        "  else: \n",
        "    print('Matrix dimensions do not match')"
      ],
      "execution_count": 0,
      "outputs": []
    },
    {
      "cell_type": "code",
      "metadata": {
        "id": "xNnrSvByIL8Y",
        "colab_type": "code",
        "colab": {}
      },
      "source": [
        "InitialMatrix = np.array([1,1,1,1,1,1,1,1,1,1])\n",
        "def Dialer_Problem(S,N):\n",
        "  if (S < 0 or S > 9):\n",
        "    print(\"Dial key value should be between 0 and 9\")\n",
        "  else:\n",
        "    #Creating new variable so as not to modify the original matrix\n",
        "    MultMatrix = A\n",
        "    for count in range(1,N-1):\n",
        "      MultMatrix = np.dot(MultMatrix,A)\n",
        "    Result = np.dot(MultMatrix,InitialMatrix)\n",
        "    return Result[S]"
      ],
      "execution_count": 0,
      "outputs": []
    },
    {
      "cell_type": "code",
      "metadata": {
        "id": "qedkuPGvIiK8",
        "colab_type": "code",
        "outputId": "8d58e25c-a33b-453f-cca5-90c73184605e",
        "colab": {
          "base_uri": "https://localhost:8080/",
          "height": 34
        }
      },
      "source": [
        "print('Verifying the result of Dialer_Problem(5,10) ' , Dialer_Problem(5,10))"
      ],
      "execution_count": 0,
      "outputs": [
        {
          "output_type": "stream",
          "text": [
            "Verifying the result of Dialer_Problem(5,10)  18713\n"
          ],
          "name": "stdout"
        }
      ]
    },
    {
      "cell_type": "code",
      "metadata": {
        "id": "u327B95OR6Eq",
        "colab_type": "code",
        "colab": {}
      },
      "source": [
        "A_Nested = [[0,0,0,0,0,0,0,0,1,0],\n",
        "              [0,0,1,0,1,0,0,0,0,0],\n",
        "              [0,1,0,1,0,1,0,0,0,0],\n",
        "              [0,0,1,0,0,0,1,0,0,0],\n",
        "              [0,1,0,0,0,1,0,1,0,0],\n",
        "              [0,0,1,0,1,0,1,0,1,0],\n",
        "              [0,0,0,1,0,1,0,0,0,1],\n",
        "              [0,0,0,0,1,0,0,0,1,0],\n",
        "              [1,0,0,0,0,1,0,1,0,1],\n",
        "              [0,0,0,0,0,0,1,0,1,0]]"
      ],
      "execution_count": 0,
      "outputs": []
    },
    {
      "cell_type": "code",
      "metadata": {
        "id": "vVJW460UOCVu",
        "colab_type": "code",
        "colab": {}
      },
      "source": [
        "InitialList =[[1],[1],[1],[1],[1],[1],[1],[1],[1],[1]]"
      ],
      "execution_count": 0,
      "outputs": []
    },
    {
      "cell_type": "code",
      "metadata": {
        "id": "EF1msTrjZOwx",
        "colab_type": "code",
        "colab": {}
      },
      "source": [
        "def Dialer_Problem_Without_Numpy(S,N):\n",
        "  if (S < 0 or S > 9):\n",
        "    print(\"Dial key value should be between 0 and 9\")\n",
        "  else:\n",
        "    #Creating new variable so as not to modify the original matrix\n",
        "    MultList = A_Nested\n",
        "    for count in range(1,N-1):\n",
        "      MultList = MatrixMulti(MultList,A)\n",
        "    Result = MatrixMulti(MultList,InitialList)\n",
        "    return Result[S][0]"
      ],
      "execution_count": 0,
      "outputs": []
    },
    {
      "cell_type": "code",
      "metadata": {
        "id": "HlxdL2MzQK8l",
        "colab_type": "code",
        "outputId": "a4058854-f2fb-4d43-a2db-c56083158edb",
        "colab": {
          "base_uri": "https://localhost:8080/",
          "height": 34
        }
      },
      "source": [
        "print('Verifying the result of Dialer_Problem_Without_Numpy(5,10) ' , Dialer_Problem_Without_Numpy(5,10))"
      ],
      "execution_count": 0,
      "outputs": [
        {
          "output_type": "stream",
          "text": [
            "Verifying the result of Dialer_Problem_Without_Numpy(5,10)  18713\n"
          ],
          "name": "stdout"
        }
      ]
    },
    {
      "cell_type": "code",
      "metadata": {
        "id": "tV6V0xYdQPL_",
        "colab_type": "code",
        "colab": {}
      },
      "source": [
        "import time\n",
        "def calc_time(S,N):\n",
        "  t1=time.time()\n",
        "  Dialer_Problem(S,N)\n",
        "  return (time.time() - t1) * 1000 #Return in ms"
      ],
      "execution_count": 0,
      "outputs": []
    },
    {
      "cell_type": "code",
      "metadata": {
        "id": "2MhZA0jojkGQ",
        "colab_type": "code",
        "colab": {}
      },
      "source": [
        "TimeTaken=[]\n",
        "for count in range(0,1001):\n",
        "  TimeTaken.append(calc_time(5,count))  #5 is selected as S value since it's median of 0 to 10. Value of S wouldn't make a difference though"
      ],
      "execution_count": 0,
      "outputs": []
    },
    {
      "cell_type": "code",
      "metadata": {
        "id": "_lQDSJfckqHW",
        "colab_type": "code",
        "outputId": "22169827-6190-4559-c2bb-2d78a81725fd",
        "colab": {
          "base_uri": "https://localhost:8080/",
          "height": 527
        }
      },
      "source": [
        "N=range(0,1001)\n",
        "plt.figure(figsize=(8,8))\n",
        "plt.plot(N,TimeTaken,c='lightblue')\n",
        "plt.xlabel('N', fontsize=15)\n",
        "plt.ylabel('Execution Time (ms)', fontsize=15)\n",
        "plt.legend(fontsize=15)\n",
        "plt.xticks(fontsize=13)\n",
        "plt.yticks(fontsize=13)\n",
        "plt.xlim([0, 1000])\n",
        "plt.ylim([0, 5])\n",
        "\n",
        "plt.show()"
      ],
      "execution_count": 0,
      "outputs": [
        {
          "output_type": "stream",
          "text": [
            "No handles with labels found to put in legend.\n"
          ],
          "name": "stderr"
        },
        {
          "output_type": "display_data",
          "data": {
            "image/png": "[encoded data removed]",
            "text/plain": [
              "<Figure size 576x576 with 1 Axes>"
            ]
          },
          "metadata": {
            "tags": [],
            "needs_background": "light"
          }
        }
      ]
    },
    {
      "cell_type": "code",
      "metadata": {
        "id": "gLsQB9GtnILc",
        "colab_type": "code",
        "colab": {}
      },
      "source": [
        ""
      ],
      "execution_count": 0,
      "outputs": []
    }
  ]
}