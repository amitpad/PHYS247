{
  "nbformat": 4,
  "nbformat_minor": 0,
  "metadata": {
    "colab": {
      "name": "Assignemnt1.ipynb",
      "provenance": [],
      "collapsed_sections": [],
      "authorship_tag": "ABX9TyPnLziwnWR5stRTABYuu+3T",
      "include_colab_link": true
    },
    "kernelspec": {
      "name": "python3",
      "display_name": "Python 3"
    }
  },
  "cells": [
    {
      "cell_type": "markdown",
      "metadata": {
        "id": "view-in-github",
        "colab_type": "text"
      },
      "source": [
        "<a href=\"https://colab.research.google.com/github/amitpad/PHYS247/blob/master/Assignemnt1.ipynb\" target=\"_parent\"><img src=\"https://colab.research.google.com/assets/colab-badge.svg\" alt=\"Open In Colab\"/></a>"
      ]
    },
    {
      "cell_type": "code",
      "metadata": {
        "id": "5KR4RTk-LvCH",
        "colab_type": "code",
        "colab": {}
      },
      "source": [
        "import matplotlib.pylab as plt"
      ],
      "execution_count": 0,
      "outputs": []
    },
    {
      "cell_type": "code",
      "metadata": {
        "id": "K6_rOX8xL0BE",
        "colab_type": "code",
        "colab": {}
      },
      "source": [
        "import numpy as np"
      ],
      "execution_count": 0,
      "outputs": []
    },
    {
      "cell_type": "code",
      "metadata": {
        "id": "fmRpDNOhL8uj",
        "colab_type": "code",
        "outputId": "214fd73a-11fc-48ba-e6ed-ac23afe57790",
        "colab": {
          "base_uri": "https://localhost:8080/",
          "height": 187
        }
      },
      "source": [
        "D = np.array([[1.72,0.1],[-0.58,0.31],[1.99,1.54],[1.60,4.97],[2.72,2.43],[2.83,3.59],[5.95,7.71],[4.75,7.63],[5.57,5.60],[9.82,7.91]])\n",
        "D"
      ],
      "execution_count": 0,
      "outputs": [
        {
          "output_type": "execute_result",
          "data": {
            "text/plain": [
              "array([[ 1.72,  0.1 ],\n",
              "       [-0.58,  0.31],\n",
              "       [ 1.99,  1.54],\n",
              "       [ 1.6 ,  4.97],\n",
              "       [ 2.72,  2.43],\n",
              "       [ 2.83,  3.59],\n",
              "       [ 5.95,  7.71],\n",
              "       [ 4.75,  7.63],\n",
              "       [ 5.57,  5.6 ],\n",
              "       [ 9.82,  7.91]])"
            ]
          },
          "metadata": {
            "tags": []
          },
          "execution_count": 29
        }
      ]
    },
    {
      "cell_type": "code",
      "metadata": {
        "id": "HngnnTT3bIwW",
        "colab_type": "code",
        "outputId": "0f042c84-add9-4c7d-8cab-e1970d306511",
        "colab": {
          "base_uri": "https://localhost:8080/",
          "height": 51
        }
      },
      "source": [
        "coVar = np.cov(np.transpose(D))\n",
        "coVar"
      ],
      "execution_count": 0,
      "outputs": [
        {
          "output_type": "execute_result",
          "data": {
            "text/plain": [
              "array([[8.70742333, 7.41923   ],\n",
              "       [7.41923   , 9.21336556]])"
            ]
          },
          "metadata": {
            "tags": []
          },
          "execution_count": 30
        }
      ]
    },
    {
      "cell_type": "code",
      "metadata": {
        "id": "_Bk1chtObPM1",
        "colab_type": "code",
        "outputId": "c3058e69-2592-4400-b75f-c9df10c7ab02",
        "colab": {
          "base_uri": "https://localhost:8080/",
          "height": 51
        }
      },
      "source": [
        "E=np.linalg.eig(coVar1)\n",
        "E"
      ],
      "execution_count": 0,
      "outputs": [
        {
          "output_type": "execute_result",
          "data": {
            "text/plain": [
              "(array([ 1.53685296, 16.38393593]), array([[-0.71905385, -0.69495436],\n",
              "        [ 0.69495436, -0.71905385]]))"
            ]
          },
          "metadata": {
            "tags": []
          },
          "execution_count": 31
        }
      ]
    },
    {
      "cell_type": "code",
      "metadata": {
        "id": "bJeulPPnbbbV",
        "colab_type": "code",
        "outputId": "dc725abc-9e0b-46df-92ea-e588fcc4483b",
        "colab": {
          "base_uri": "https://localhost:8080/",
          "height": 34
        }
      },
      "source": [
        "#Second eigenvalue (16.3839) is higher due to which selecting the second vector in the array\n",
        "SF=E[1].T[1]\n",
        "SF"
      ],
      "execution_count": 0,
      "outputs": [
        {
          "output_type": "execute_result",
          "data": {
            "text/plain": [
              "array([-0.69495436, -0.71905385])"
            ]
          },
          "metadata": {
            "tags": []
          },
          "execution_count": 32
        }
      ]
    },
    {
      "cell_type": "code",
      "metadata": {
        "id": "8OmHbpnyb0vk",
        "colab_type": "code",
        "colab": {}
      },
      "source": [
        "P = np.dot(D,SF)"
      ],
      "execution_count": 0,
      "outputs": []
    },
    {
      "cell_type": "code",
      "metadata": {
        "id": "iPZv1AZ_dUTt",
        "colab_type": "code",
        "outputId": "f1b2ab7f-eaf5-477b-930e-093d4e496b31",
        "colab": {
          "base_uri": "https://localhost:8080/",
          "height": 51
        }
      },
      "source": [
        "print('Final 1-D dataset after PCA is ',P)"
      ],
      "execution_count": 0,
      "outputs": [
        {
          "output_type": "stream",
          "text": [
            "Final 1-D dataset after PCA is  [ -1.26722688   0.18016683  -2.4903021   -4.68562461  -3.63757671\n",
            "  -4.54812416  -9.67888362  -8.78741408  -7.89759734 -12.51216776]\n"
          ],
          "name": "stdout"
        }
      ]
    }
  ]
}